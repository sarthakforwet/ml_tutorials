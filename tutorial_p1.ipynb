{
  "nbformat": 4,
  "nbformat_minor": 0,
  "metadata": {
    "colab": {
      "name": "SW_submission",
      "provenance": [],
      "collapsed_sections": [],
      "toc_visible": true
    },
    "kernelspec": {
      "name": "python3",
      "display_name": "Python 3"
    }
  },
  "cells": [
    {
      "cell_type": "markdown",
      "metadata": {
        "id": "4gqxNCEE8cfo",
        "colab_type": "text"
      },
      "source": [
        "# Topics to be discussed:\n",
        "\n",
        "1. Linear Regression\n",
        "2. Logistic Regression\n",
        "3. Decision Tree (Regression + Classification)\n",
        "4. Random Forest (Regression + Classification)\n",
        "5. Support Vector Machines (With and W/O kernel)\n",
        "6. K-nearest neighbors\n",
        "7. Neural Network architecture (Regression + Classification)"
      ]
    },
    {
      "cell_type": "code",
      "metadata": {
        "id": "J1cFee1m90yX",
        "colab_type": "code",
        "colab": {}
      },
      "source": [
        "# IMPORTING LIBRARIES\n",
        "\n",
        "# scikit-learn packages \n",
        "from sklearn.svm import SVC\n",
        "from sklearn.cluster import KMeans\n",
        "from sklearn.metrics import accuracy_score\n",
        "from sklearn.decomposition import KernelPCA\n",
        "from sklearn.preprocessing import StandardScaler\n",
        "from sklearn.model_selection import train_test_split\n",
        "from sklearn.linear_model import LinearRegression, LogisticRegression\n",
        "from sklearn.tree import DecisionTreeClassifier, DecisionTreeRegressor\n",
        "from sklearn.ensemble import RandomForestClassifier, RandomForestRegressor\n",
        "from sklearn.datasets import make_circles, make_regression, make_blobs, make_moons\n",
        "from sklearn.datasets import  load_diabetes, load_breast_cancer, load_iris, load_boston\n",
        "\n",
        "# other packages\n",
        "import numpy as np\n",
        "import pandas as pd\n",
        "import tensorflow as tf\n",
        "import tensorflow_datasets as tfds\n",
        "import matplotlib.pyplot as plt\n",
        "from matplotlib.colors import ListedColormap"
      ],
      "execution_count": null,
      "outputs": []
    },
    {
      "cell_type": "code",
      "metadata": {
        "id": "v3pj9jC9Cumy",
        "colab_type": "code",
        "colab": {}
      },
      "source": [
        "# Utility Functions\n",
        "def plot_decision_boundary(features, label, classifier):\n",
        "  \"\"\"Function to plot decision boundary\"\"\"\n",
        "  colors  = [\"red\", \"green\", \"blue\", \"cyan\", \"yellow\"]\n",
        "  markers = [\"4\", \"o\", \"s\", \"x\", \"*\"]\n",
        "  colormap = ListedColormap([colors[e] for e in np.unique(label)])\n",
        "\n",
        "  x1_min, x1_max = features[:, 0].min()-1, features[:, 0].max()+1\n",
        "  x2_min, x2_max = features[:, 1].min()-1, features[:, 1].max()+1\n",
        "\n",
        "  x1, x2 = np.meshgrid(np.arange(x1_min, x1_max, 0.02), np.arange(x2_min, x2_max, 0.02))\n",
        "\n",
        "  \n",
        "  Z = classifier.predict(np.array([x1.ravel(), x2.ravel()]).T)\n",
        "  Z = Z.reshape(x1.shape)\n",
        "  plt.contourf(x1, x2, Z, cmap=colormap, alpha=0.4)\n",
        "  plt.xlim(x1.min(), x1.max())\n",
        "  plt.ylim(x2.min(), x2.max())\n",
        "\n",
        "  for idx, cls in enumerate(np.unique(label)):\n",
        "    plt.scatter(features[label==cls, 0], features[label==cls, 1], c=colors[idx], \n",
        "                label=f\"Class {cls+1}\", edgecolor=\"black\", marker=markers[idx])\n",
        "\n",
        "  plt.legend()\n",
        "  plt.show()\n",
        "\n",
        "def print_accuracy(classifier, valid_features, valid_label):\n",
        "  print(f\"Validation Accuracy: {round(classifier.score(valid_features, valid_label),2)*100}%\")\n",
        "\n",
        "def print_regression_accuracy(classifier, valid_features, valid_labels, threshold=0.3):\n",
        "  y_pred = classifier.predict(valid_features)\n",
        "  score = np.mean(abs(y_pred-valid_labels)<=threshold)\n",
        "  print(f\"Validation Accuracy: {round(score, 2)*100}%\")\n",
        "\n",
        "def scatter_datapoints(features, labels):\n",
        "  \"\"\"Function to plotting the input dataset\"\"\"\n",
        "  colors  = [\"red\", \"green\", \"blue\", \"cyan\", \"yellow\"]\n",
        "  markers = [\"4\", \"o\", \"s\", \"x\", \"*\"]\n",
        "  np.random.shuffle(colors)\n",
        "  np.random.shuffle(markers)\n",
        "\n",
        "  for idx, i in enumerate(np.unique(labels)):\n",
        "    plt.scatter(features[labels==i, 0], features[labels==i, 1], \n",
        "                c=colors[idx], label=f\"Class {i}\",\n",
        "                marker=markers[idx], edgecolors=\"black\")\n",
        "  plt.legend()\n",
        "  plt.xlabel(\"Feature #1\", fontdict={\"fontsize\": 18})\n",
        "  plt.ylabel(\"Feature #2\", fontdict={\"fontsize\": 18})\n",
        "  plt.show()\n",
        "\n",
        "def normalize(features, strategy=\"standard\"):\n",
        "  \"\"\"Function to normalize input data on the basis of\n",
        "  some given strategy.\n",
        "  \"\"\"\n",
        "  scaler = StandardScaler()\n",
        "  scaled_data = scaler.fit_transform(features)\n",
        "  return scaled_data"
      ],
      "execution_count": null,
      "outputs": []
    },
    {
      "cell_type": "markdown",
      "metadata": {
        "id": "VnZoPeTl-BdI",
        "colab_type": "text"
      },
      "source": [
        "## 1. **Linear Regression:** \n",
        "In this algorithm we try to plot a line in the vector space such that the perpendicular distance of the data points (offset) from this line would be minimum.\n"
      ]
    },
    {
      "cell_type": "code",
      "metadata": {
        "id": "Z6oIxi7D_NZV",
        "colab_type": "code",
        "colab": {
          "base_uri": "https://localhost:8080/",
          "height": 265
        },
        "outputId": "f2b22f4b-4b25-4b4c-c5a3-e523f23653a0"
      },
      "source": [
        "# We will use regression dataset for linear regression\n",
        "X, y = make_regression(n_samples=200, n_features=2, shuffle=True)\n",
        "\n",
        "# EDA - Data Normalization\n",
        "X_std = normalize(X) \n",
        "\n",
        "# There are 200 samples in the dataset.\n",
        "# Let's visualize the samples\n",
        "plt.scatter(X_std[:, 0], X_std[:, 1], c=\"red\", s=25)\n",
        "plt.show()"
      ],
      "execution_count": null,
      "outputs": [
        {
          "output_type": "display_data",
          "data": {
            "image/png": "[encoded data removed]",
            "text/plain": [
              "<Figure size 432x288 with 1 Axes>"
            ]
          },
          "metadata": {
            "tags": [],
            "needs_background": "light"
          }
        }
      ]
    },
    {
      "cell_type": "code",
      "metadata": {
        "id": "OcvLRRdoLYHW",
        "colab_type": "code",
        "colab": {
          "base_uri": "https://localhost:8080/",
          "height": 34
        },
        "outputId": "93d64a5f-441a-4978-9bea-05260ed1e2b4"
      },
      "source": [
        "# divide dataset into train and validation samples\n",
        "x_train, x_test, y_train, y_test = train_test_split(X_std, y, test_size=0.2, shuffle=True)\n",
        "\n",
        "# Instantiate the model.\n",
        "lr_regression = LinearRegression()\n",
        "\n",
        "# Fitting the model\n",
        "lr_regression.fit(x_train, y_train)"
      ],
      "execution_count": null,
      "outputs": [
        {
          "output_type": "execute_result",
          "data": {
            "text/plain": [
              "LinearRegression(copy_X=True, fit_intercept=True, n_jobs=None, normalize=False)"
            ]
          },
          "metadata": {
            "tags": []
          },
          "execution_count": 170
        }
      ]
    },
    {
      "cell_type": "code",
      "metadata": {
        "id": "hXec8a9w2zxt",
        "colab_type": "code",
        "colab": {
          "base_uri": "https://localhost:8080/",
          "height": 34
        },
        "outputId": "4d01d47d-0321-47ca-cd1c-27835a1deaf3"
      },
      "source": [
        "print_accuracy(lr_regression, x_test, y_test)"
      ],
      "execution_count": null,
      "outputs": [
        {
          "output_type": "stream",
          "text": [
            "Validation Accuracy: 100.0%\n"
          ],
          "name": "stdout"
        }
      ]
    },
    {
      "cell_type": "markdown",
      "metadata": {
        "id": "cK6FSjH7M3y2",
        "colab_type": "text"
      },
      "source": [
        "## 2. Logistic Regression:\n",
        " \n",
        "Although it looks from the name that it is a regression algorithm but that's not the case. It is a classification algorithm which uses **sigmoid** activation function. "
      ]
    },
    {
      "cell_type": "code",
      "metadata": {
        "id": "xDoWXq9MLOa2",
        "colab_type": "code",
        "colab": {
          "base_uri": "https://localhost:8080/",
          "height": 287
        },
        "outputId": "1bd846f5-5ee6-4d54-9035-db7188f43c92"
      },
      "source": [
        "# Loading the iris dataset\n",
        "X_iris, y_iris = load_iris(return_X_y=True)\n",
        "\n",
        "# Taking only two features for plotting decision boundaries.\n",
        "X_iris = X_iris[:, [0, 2]]\n",
        "\n",
        "# Plotting data\n",
        "scatter_datapoints(X_iris, y_iris)"
      ],
      "execution_count": null,
      "outputs": [
        {
          "output_type": "display_data",
          "data": {
            "image/png": "[encoded data removed]",
            "text/plain": [
              "<Figure size 432x288 with 1 Axes>"
            ]
          },
          "metadata": {
            "tags": [],
            "needs_background": "light"
          }
        }
      ]
    },
    {
      "cell_type": "code",
      "metadata": {
        "id": "RMgU7uKlp_bK",
        "colab_type": "code",
        "colab": {
          "base_uri": "https://localhost:8080/",
          "height": 102
        },
        "outputId": "a70d5a84-f069-4758-bf96-e788f439c873"
      },
      "source": [
        "# Instantiating the model\n",
        "logistic_reg = LogisticRegression()\n",
        "\n",
        "# EDA - Data Normalization\n",
        "X_std = normalize(X_iris)\n",
        "\n",
        "# Splitting the dataset\n",
        "x_train, x_valid, y_train, y_valid = train_test_split(X_std, y_iris, stratify=y_iris,\n",
        "                                                      test_size=0.2, random_state=48)\n",
        "\n",
        "# Fitting the model\n",
        "logistic_reg.fit(x_train, y_train)"
      ],
      "execution_count": null,
      "outputs": [
        {
          "output_type": "execute_result",
          "data": {
            "text/plain": [
              "LogisticRegression(C=1.0, class_weight=None, dual=False, fit_intercept=True,\n",
              "                   intercept_scaling=1, l1_ratio=None, max_iter=100,\n",
              "                   multi_class='auto', n_jobs=None, penalty='l2',\n",
              "                   random_state=None, solver='lbfgs', tol=0.0001, verbose=0,\n",
              "                   warm_start=False)"
            ]
          },
          "metadata": {
            "tags": []
          },
          "execution_count": 174
        }
      ]
    },
    {
      "cell_type": "code",
      "metadata": {
        "id": "LeX2RHjorVXc",
        "colab_type": "code",
        "colab": {
          "base_uri": "https://localhost:8080/",
          "height": 265
        },
        "outputId": "f55e9bbd-a2e4-460f-d3bb-c4e8b8b33677"
      },
      "source": [
        "plot_decision_boundary(x_train, y_train, classifier=logistic_reg)"
      ],
      "execution_count": null,
      "outputs": [
        {
          "output_type": "display_data",
          "data": {
            "image/png": "[encoded data removed]",
            "text/plain": [
              "<Figure size 432x288 with 1 Axes>"
            ]
          },
          "metadata": {
            "tags": [],
            "needs_background": "light"
          }
        }
      ]
    },
    {
      "cell_type": "code",
      "metadata": {
        "id": "S7AwffOJr9Vy",
        "colab_type": "code",
        "colab": {
          "base_uri": "https://localhost:8080/",
          "height": 34
        },
        "outputId": "c6637f6f-9be2-4537-ed7b-66a6a39bf97a"
      },
      "source": [
        "# Let's check out the score of our model\n",
        "print_accuracy(logistic_reg, x_valid, y_valid)"
      ],
      "execution_count": null,
      "outputs": [
        {
          "output_type": "stream",
          "text": [
            "Validation Accuracy: 93.0%\n"
          ],
          "name": "stdout"
        }
      ]
    },
    {
      "cell_type": "markdown",
      "metadata": {
        "id": "z359nwE6udyB",
        "colab_type": "text"
      },
      "source": [
        "## 3. Decision Tree - Classification"
      ]
    },
    {
      "cell_type": "code",
      "metadata": {
        "id": "1p2QbnB_sUje",
        "colab_type": "code",
        "colab": {
          "base_uri": "https://localhost:8080/",
          "height": 287
        },
        "outputId": "d4cbe289-62fa-4e92-9847-c4bbd9e8c05a"
      },
      "source": [
        "# We will use the make moons dataset \n",
        "# (A non-linearly separable dataset)\n",
        "X_moon, y_moon = make_moons(n_samples=500)\n",
        "\n",
        "# Plotting data\n",
        "scatter_datapoints(X_moon, y_moon)"
      ],
      "execution_count": null,
      "outputs": [
        {
          "output_type": "display_data",
          "data": {
            "image/png": "[encoded data removed]",
            "text/plain": [
              "<Figure size 432x288 with 1 Axes>"
            ]
          },
          "metadata": {
            "tags": [],
            "needs_background": "light"
          }
        }
      ]
    },
    {
      "cell_type": "code",
      "metadata": {
        "id": "iw9iF3lRKhtc",
        "colab_type": "code",
        "colab": {
          "base_uri": "https://localhost:8080/",
          "height": 34
        },
        "outputId": "95760804-18b8-498a-ae92-e35d9f49eb28"
      },
      "source": [
        "# How many samples corresponding to each class are present?\n",
        "np.bincount(y_moon)"
      ],
      "execution_count": null,
      "outputs": [
        {
          "output_type": "execute_result",
          "data": {
            "text/plain": [
              "array([250, 250])"
            ]
          },
          "metadata": {
            "tags": []
          },
          "execution_count": 25
        }
      ]
    },
    {
      "cell_type": "markdown",
      "metadata": {
        "id": "8gfIB0lAtaTO",
        "colab_type": "text"
      },
      "source": [
        "- Although we can use Principal Component Analysis \n",
        "to project this non-linearly seperable data onto a linearly seperable subspace,\n",
        "we would use this data as it is for our decision tree task."
      ]
    },
    {
      "cell_type": "code",
      "metadata": {
        "id": "NVYfg-WsuaBF",
        "colab_type": "code",
        "colab": {
          "base_uri": "https://localhost:8080/",
          "height": 119
        },
        "outputId": "05b079a5-f1f2-4047-f46a-0b494ab135c4"
      },
      "source": [
        "# Instantiating the model\n",
        "d_tree = DecisionTreeClassifier(criterion=\"gini\", max_depth=10, random_state=48)\n",
        "\n",
        "# Splitting  the dataset\n",
        "x_train, x_test, y_train, y_test = train_test_split(X_moon, y_moon, test_size=0.2,\n",
        "                                                    stratify=y_moon, random_state=48)\n",
        "\n",
        "# Fitting the model\n",
        "d_tree.fit(x_train, y_train)"
      ],
      "execution_count": null,
      "outputs": [
        {
          "output_type": "execute_result",
          "data": {
            "text/plain": [
              "DecisionTreeClassifier(ccp_alpha=0.0, class_weight=None, criterion='gini',\n",
              "                       max_depth=10, max_features=None, max_leaf_nodes=None,\n",
              "                       min_impurity_decrease=0.0, min_impurity_split=None,\n",
              "                       min_samples_leaf=1, min_samples_split=2,\n",
              "                       min_weight_fraction_leaf=0.0, presort='deprecated',\n",
              "                       random_state=48, splitter='best')"
            ]
          },
          "metadata": {
            "tags": []
          },
          "execution_count": 178
        }
      ]
    },
    {
      "cell_type": "code",
      "metadata": {
        "id": "2vqM2aBgLTHB",
        "colab_type": "code",
        "colab": {
          "base_uri": "https://localhost:8080/",
          "height": 265
        },
        "outputId": "46dac767-8860-45ea-9885-1d8d310ebcfe"
      },
      "source": [
        "# Let's plot the decision boundary\n",
        "plot_decision_boundary(x_test, y_test, classifier=d_tree)"
      ],
      "execution_count": null,
      "outputs": [
        {
          "output_type": "display_data",
          "data": {
            "image/png": "[encoded data removed]",
            "text/plain": [
              "<Figure size 432x288 with 1 Axes>"
            ]
          },
          "metadata": {
            "tags": [],
            "needs_background": "light"
          }
        }
      ]
    },
    {
      "cell_type": "code",
      "metadata": {
        "id": "j8nWDtRXLdSD",
        "colab_type": "code",
        "colab": {
          "base_uri": "https://localhost:8080/",
          "height": 34
        },
        "outputId": "56deeb84-ba0f-45d3-8740-7509544ecac0"
      },
      "source": [
        "# It can be seen that model has slightly large variance :) Let's look at the score.\n",
        "print_accuracy(d_tree, x_test, y_test)"
      ],
      "execution_count": null,
      "outputs": [
        {
          "output_type": "stream",
          "text": [
            "Validation Accuracy: 98.0%\n"
          ],
          "name": "stdout"
        }
      ]
    },
    {
      "cell_type": "markdown",
      "metadata": {
        "id": "LacLu0oNLnHj",
        "colab_type": "text"
      },
      "source": [
        "## 3. Decision Tree - Regression"
      ]
    },
    {
      "cell_type": "code",
      "metadata": {
        "id": "w579TcV2LsMb",
        "colab_type": "code",
        "colab": {}
      },
      "source": [
        "# Loading the Boston dataset\n",
        "X_boston, y_boston = load_boston(return_X_y=True)"
      ],
      "execution_count": null,
      "outputs": []
    },
    {
      "cell_type": "markdown",
      "metadata": {
        "id": "UAbTzNGA4BLM",
        "colab_type": "text"
      },
      "source": [
        "One thing to note that DecisionTreeRegressor does not include impurity such as entropy, gini or classification error. It uses MSE to split the data.\n"
      ]
    },
    {
      "cell_type": "code",
      "metadata": {
        "id": "-uvI90x5L9iz",
        "colab_type": "code",
        "colab": {
          "base_uri": "https://localhost:8080/",
          "height": 119
        },
        "outputId": "56ab290f-85c6-400f-b3a5-369e61bb545a"
      },
      "source": [
        "# Instantiating the model\n",
        "d_tree_reg = DecisionTreeRegressor(criterion=\"mse\", max_depth=10, random_state=48)\n",
        "\n",
        "# Splitting the dataset\n",
        "x_train, x_test, y_train, y_test = train_test_split(X_boston, y_boston, test_size=0.2,\n",
        "                                                    random_state=48)\n",
        "\n",
        "# Fitting the model\n",
        "d_tree_reg.fit(x_train, y_train)"
      ],
      "execution_count": null,
      "outputs": [
        {
          "output_type": "execute_result",
          "data": {
            "text/plain": [
              "DecisionTreeRegressor(ccp_alpha=0.0, criterion='mse', max_depth=10,\n",
              "                      max_features=None, max_leaf_nodes=None,\n",
              "                      min_impurity_decrease=0.0, min_impurity_split=None,\n",
              "                      min_samples_leaf=1, min_samples_split=2,\n",
              "                      min_weight_fraction_leaf=0.0, presort='deprecated',\n",
              "                      random_state=48, splitter='best')"
            ]
          },
          "metadata": {
            "tags": []
          },
          "execution_count": 98
        }
      ]
    },
    {
      "cell_type": "code",
      "metadata": {
        "id": "LCfK0HvHMJXb",
        "colab_type": "code",
        "colab": {
          "base_uri": "https://localhost:8080/",
          "height": 34
        },
        "outputId": "f86cb622-0375-4eab-acb5-b0779cf15313"
      },
      "source": [
        "# Let's look at the validation score\n",
        "print_accuracy(d_tree_reg, x_test, y_test)"
      ],
      "execution_count": null,
      "outputs": [
        {
          "output_type": "stream",
          "text": [
            "Validation Accuracy: 77.0%\n"
          ],
          "name": "stdout"
        }
      ]
    },
    {
      "cell_type": "code",
      "metadata": {
        "id": "rV-EfZtqTqM2",
        "colab_type": "code",
        "colab": {
          "base_uri": "https://localhost:8080/",
          "height": 282
        },
        "outputId": "62f825ff-36d5-42c7-d9aa-e767927080a7"
      },
      "source": [
        "# Let's plot the predicted value Vs. the actual values\n",
        "y_pred = d_tree_reg.predict(x_test)\n",
        "\n",
        "print(\"Printing the plot...\")\n",
        "plt.plot(y_test, c=\"red\", label=\"Actual Value\")\n",
        "plt.plot(y_pred, c=\"green\", label=\"Predicted Value\")\n",
        "plt.legend()\n",
        "plt.show()"
      ],
      "execution_count": null,
      "outputs": [
        {
          "output_type": "stream",
          "text": [
            "Printing the plot...\n"
          ],
          "name": "stdout"
        },
        {
          "output_type": "display_data",
          "data": {
            "image/png": "[encoded data removed]",
            "text/plain": [
              "<Figure size 432x288 with 1 Axes>"
            ]
          },
          "metadata": {
            "tags": [],
            "needs_background": "light"
          }
        }
      ]
    },
    {
      "cell_type": "markdown",
      "metadata": {
        "id": "sJuJoZirURuF",
        "colab_type": "text"
      },
      "source": [
        "## 4. RandomForest - Classification"
      ]
    },
    {
      "cell_type": "code",
      "metadata": {
        "id": "7oH_vhFZUgyF",
        "colab_type": "code",
        "colab": {
          "base_uri": "https://localhost:8080/",
          "height": 287
        },
        "outputId": "e4bb1a3a-acd8-4a3c-8695-16606aa7ed94"
      },
      "source": [
        "# Let's load circles dataset\n",
        "X_circle, y_circle = make_circles(n_samples=500, shuffle=True, random_state=48)\n",
        "\n",
        "# Plotting the data\n",
        "scatter_datapoints(X_circle, y_circle)"
      ],
      "execution_count": null,
      "outputs": [
        {
          "output_type": "display_data",
          "data": {
            "image/png": "[encoded data removed]",
            "text/plain": [
              "<Figure size 432x288 with 1 Axes>"
            ]
          },
          "metadata": {
            "tags": [],
            "needs_background": "light"
          }
        }
      ]
    },
    {
      "cell_type": "markdown",
      "metadata": {
        "id": "hSCfsds66VPn",
        "colab_type": "text"
      },
      "source": [
        "Again, this dataset is also non-linearly seperable and requires either non-linear algorithm or projection to high dimensional space.\n"
      ]
    },
    {
      "cell_type": "code",
      "metadata": {
        "id": "jNvp9pXQVIFo",
        "colab_type": "code",
        "colab": {
          "base_uri": "https://localhost:8080/",
          "height": 153
        },
        "outputId": "dab6d227-c327-470e-9cd6-995b7df96e12"
      },
      "source": [
        "random_forest_classifier = RandomForestClassifier(n_estimators=200, criterion=\"gini\",\n",
        "                                                  max_depth=50, n_jobs=-1)\n",
        "\n",
        "# Splitting the dataset\n",
        "x_train, x_test, y_train, y_test = train_test_split(X_circle, y_circle, test_size=0.2,\n",
        "                                                    stratify=y_circle, random_state=48)\n",
        "\n",
        "# Fit the model\n",
        "random_forest_classifier.fit(x_train, y_train)"
      ],
      "execution_count": null,
      "outputs": [
        {
          "output_type": "execute_result",
          "data": {
            "text/plain": [
              "RandomForestClassifier(bootstrap=True, ccp_alpha=0.0, class_weight=None,\n",
              "                       criterion='gini', max_depth=50, max_features='auto',\n",
              "                       max_leaf_nodes=None, max_samples=None,\n",
              "                       min_impurity_decrease=0.0, min_impurity_split=None,\n",
              "                       min_samples_leaf=1, min_samples_split=2,\n",
              "                       min_weight_fraction_leaf=0.0, n_estimators=200,\n",
              "                       n_jobs=-1, oob_score=False, random_state=None, verbose=0,\n",
              "                       warm_start=False)"
            ]
          },
          "metadata": {
            "tags": []
          },
          "execution_count": 108
        }
      ]
    },
    {
      "cell_type": "code",
      "metadata": {
        "id": "bAnFNyyKWQy_",
        "colab_type": "code",
        "colab": {
          "base_uri": "https://localhost:8080/",
          "height": 265
        },
        "outputId": "0b528367-b025-4aa0-b140-b8a6e7c44d94"
      },
      "source": [
        "# Plot decision region\n",
        "plot_decision_boundary(x_test, y_test, classifier=random_forest_classifier)"
      ],
      "execution_count": null,
      "outputs": [
        {
          "output_type": "display_data",
          "data": {
            "image/png": "[encoded data removed]",
            "text/plain": [
              "<Figure size 432x288 with 1 Axes>"
            ]
          },
          "metadata": {
            "tags": [],
            "needs_background": "light"
          }
        }
      ]
    },
    {
      "cell_type": "code",
      "metadata": {
        "id": "zxhIJeKY6ls1",
        "colab_type": "code",
        "colab": {
          "base_uri": "https://localhost:8080/",
          "height": 34
        },
        "outputId": "f99fa65c-ad10-4cec-cf02-0caa6ecf4d37"
      },
      "source": [
        "# Let's look at the model's score\n",
        "print_accuracy(random_forest_classifier, x_test, y_test)"
      ],
      "execution_count": null,
      "outputs": [
        {
          "output_type": "stream",
          "text": [
            "Validation Accuracy: 98.0%\n"
          ],
          "name": "stdout"
        }
      ]
    },
    {
      "cell_type": "markdown",
      "metadata": {
        "id": "bPwtk-y9Wan8",
        "colab_type": "text"
      },
      "source": [
        "This model is has also slightly large variance but having a good validation score."
      ]
    },
    {
      "cell_type": "markdown",
      "metadata": {
        "id": "Ds_4jrzjWorM",
        "colab_type": "text"
      },
      "source": [
        "## 4. RandomForest- Regression"
      ]
    },
    {
      "cell_type": "code",
      "metadata": {
        "id": "jPt6DmTC69rM",
        "colab_type": "code",
        "colab": {}
      },
      "source": [
        "# Using the diabetes regression dataset.\n",
        "X_diab, y_diab = load_diabetes(return_X_y=True)"
      ],
      "execution_count": null,
      "outputs": []
    },
    {
      "cell_type": "code",
      "metadata": {
        "id": "JvZBiWzIXHUC",
        "colab_type": "code",
        "colab": {
          "base_uri": "https://localhost:8080/",
          "height": 136
        },
        "outputId": "16632a3b-3615-45a5-982f-49ee1e137b93"
      },
      "source": [
        "# Instantiate the model\n",
        "random_reg = RandomForestRegressor(n_estimators=500, max_depth=10, random_state=48,\n",
        "                                   n_jobs=-1)\n",
        "\n",
        "# Splitting the dataset\n",
        "x_train, x_test, y_train, y_test  = train_test_split(X_diab, y_diab, test_size=0.2,\n",
        "                                                     random_state=48)\n",
        "\n",
        "# Fit the model\n",
        "random_reg.fit(x_train, y_train)"
      ],
      "execution_count": null,
      "outputs": [
        {
          "output_type": "execute_result",
          "data": {
            "text/plain": [
              "RandomForestRegressor(bootstrap=True, ccp_alpha=0.0, criterion='mse',\n",
              "                      max_depth=10, max_features='auto', max_leaf_nodes=None,\n",
              "                      max_samples=None, min_impurity_decrease=0.0,\n",
              "                      min_impurity_split=None, min_samples_leaf=1,\n",
              "                      min_samples_split=2, min_weight_fraction_leaf=0.0,\n",
              "                      n_estimators=500, n_jobs=-1, oob_score=False,\n",
              "                      random_state=48, verbose=0, warm_start=False)"
            ]
          },
          "metadata": {
            "tags": []
          },
          "execution_count": 122
        }
      ]
    },
    {
      "cell_type": "code",
      "metadata": {
        "id": "FfZQrk0E7JL8",
        "colab_type": "code",
        "colab": {
          "base_uri": "https://localhost:8080/",
          "height": 265
        },
        "outputId": "75694b62-868a-40e3-b2b2-36982c54f8ac"
      },
      "source": [
        "# Let's visualize the predictions\n",
        "y_pred = random_reg.predict(x_test)\n",
        "\n",
        "plt.plot(y_test, c=\"red\", label=\"Actual Value\")\n",
        "plt.plot(y_pred, c='green', label=\"Predicted Value\")\n",
        "plt.legend()\n",
        "plt.show()"
      ],
      "execution_count": null,
      "outputs": [
        {
          "output_type": "display_data",
          "data": {
            "image/png": "[encoded data removed]",
            "text/plain": [
              "<Figure size 432x288 with 1 Axes>"
            ]
          },
          "metadata": {
            "tags": [],
            "needs_background": "light"
          }
        }
      ]
    },
    {
      "cell_type": "code",
      "metadata": {
        "id": "PDttFbYItEXP",
        "colab_type": "code",
        "colab": {
          "base_uri": "https://localhost:8080/",
          "height": 34
        },
        "outputId": "df730473-800d-43f2-f0d7-6e8eba20a47c"
      },
      "source": [
        "# Let's look at the model's score\n",
        "print_accuracy(random_reg, x_test, y_test)"
      ],
      "execution_count": null,
      "outputs": [
        {
          "output_type": "stream",
          "text": [
            "Validation Accuracy: 52.0%\n"
          ],
          "name": "stdout"
        }
      ]
    },
    {
      "cell_type": "markdown",
      "metadata": {
        "id": "BY-dEpmp7xvt",
        "colab_type": "text"
      },
      "source": [
        "- Hyperparameter tuning and other techniques could be implemented for the above model to improve its performance."
      ]
    },
    {
      "cell_type": "markdown",
      "metadata": {
        "id": "eKgFt_54wIiX",
        "colab_type": "text"
      },
      "source": [
        "## 5. Support Vector Machines (with linear kernel)"
      ]
    },
    {
      "cell_type": "markdown",
      "metadata": {
        "id": "xq84hYzNw5tR",
        "colab_type": "text"
      },
      "source": [
        "- Support Vector Machines (or svm) are a class of machine learning classifiers that works pretty well for linearly as well as non-linearly seperable data.\n",
        "\n",
        "- It works with main aim to maximize the margin. A margin is the distance of the decision boundary to the closest training samples which are also called as **support vectors**.\n",
        "\n",
        "- For linearly seperable data we use \"linear kernel\" and for non-linearly seperable data, we use \"gaussion kernel\" or \"Radial Basis Function\"."
      ]
    },
    {
      "cell_type": "code",
      "metadata": {
        "id": "VPbjnvMByzFP",
        "colab_type": "code",
        "colab": {}
      },
      "source": [
        "# Let's load the famous breast cancer dataset where labels\n",
        "# are benign (0) and malignant (1).\n",
        "X_cancer, y_cancer = load_breast_cancer(return_X_y=True)"
      ],
      "execution_count": null,
      "outputs": []
    },
    {
      "cell_type": "markdown",
      "metadata": {
        "id": "Idp_7SkfzV65",
        "colab_type": "text"
      },
      "source": [
        "Let's use data compression for this task. We would train our model for both compressed and uncompressed data and see the effect of performance change."
      ]
    },
    {
      "cell_type": "code",
      "metadata": {
        "id": "u5ZgRrv78Gt1",
        "colab_type": "code",
        "colab": {
          "base_uri": "https://localhost:8080/",
          "height": 51
        },
        "outputId": "3edba328-8e7e-4f3d-88b7-de47156fd109"
      },
      "source": [
        "# Compress the dataset\n",
        "kpca = KernelPCA(n_components=2, kernel=\"linear\", n_jobs=-1)\n",
        "X_compress = kpca.fit_transform(X_cancer)\n",
        "print(f\"Original shape: {X_cancer.shape} \\nCompressed shape: {X_compress.shape}\")"
      ],
      "execution_count": null,
      "outputs": [
        {
          "output_type": "stream",
          "text": [
            "Original shape: (569, 30) \n",
            "Compressed shape: (569, 2)\n"
          ],
          "name": "stdout"
        }
      ]
    },
    {
      "cell_type": "code",
      "metadata": {
        "id": "KSnf-pgJ3VD7",
        "colab_type": "code",
        "colab": {
          "base_uri": "https://localhost:8080/",
          "height": 290
        },
        "outputId": "be48e5ce-e032-4eab-fbba-43c467861422"
      },
      "source": [
        "# Let's visualize the compressed dataset\n",
        "scatter_datapoints(X_compress, y_cancer)"
      ],
      "execution_count": null,
      "outputs": [
        {
          "output_type": "display_data",
          "data": {
            "image/png": "[encoded data removed]",
            "text/plain": [
              "<Figure size 432x288 with 1 Axes>"
            ]
          },
          "metadata": {
            "tags": [],
            "needs_background": "light"
          }
        }
      ]
    },
    {
      "cell_type": "markdown",
      "metadata": {
        "id": "dAs_aOYb4D5G",
        "colab_type": "text"
      },
      "source": [
        "As we can see that data is linearly inseperable and hence we need to use kernel trick to make this data linearly seperable. But before that let's just finish our experiment of training the classifier (Linear SVM)."
      ]
    },
    {
      "cell_type": "code",
      "metadata": {
        "id": "yQk9xB9F5t-W",
        "colab_type": "code",
        "colab": {
          "base_uri": "https://localhost:8080/",
          "height": 85
        },
        "outputId": "bb941c2c-bc2b-4158-98de-5f478e823f31"
      },
      "source": [
        "# Instantiate the model\n",
        "svm_classifier = SVC(kernel=\"linear\")\n",
        "svm_classifier_cm = SVC(kernel=\"linear\") \n",
        "\n",
        "# EDA - Data Normalization\n",
        "X_compress_std = normalize(X_compress)\n",
        "X_cancer_std = normalize(X_cancer)\n",
        "\n",
        "# Splitting the dataset\n",
        "x_train, x_test, y_train, y_test = train_test_split(X_cancer_std, y_cancer, random_state=48,\n",
        "                                                    stratify=y_cancer)\n",
        "\n",
        "x_train_cm, x_test_cm, y_train_cm, y_test_cm = train_test_split(X_compress_std, y_cancer,\n",
        "                                                                random_state=48, stratify=y_cancer)\n",
        "\n",
        "# Fitting the models\n",
        "svm_classifier.fit(x_train, y_train)\n",
        "svm_classifier_cm.fit(x_train_cm, y_train_cm)"
      ],
      "execution_count": null,
      "outputs": [
        {
          "output_type": "execute_result",
          "data": {
            "text/plain": [
              "SVC(C=1.0, break_ties=False, cache_size=200, class_weight=None, coef0=0.0,\n",
              "    decision_function_shape='ovr', degree=3, gamma='scale', kernel='linear',\n",
              "    max_iter=-1, probability=False, random_state=None, shrinking=True,\n",
              "    tol=0.001, verbose=False)"
            ]
          },
          "metadata": {
            "tags": []
          },
          "execution_count": 179
        }
      ]
    },
    {
      "cell_type": "markdown",
      "metadata": {
        "id": "vG518PPm-1GM",
        "colab_type": "text"
      },
      "source": [
        "There is a difference of nearly 0.05 in the performance of the models which can be reduced further with good \n",
        "hyperparameter choice or just ignored for the cases where storage of data is main issue rather than performance."
      ]
    },
    {
      "cell_type": "markdown",
      "metadata": {
        "id": "bZHPuUtw9CzK",
        "colab_type": "text"
      },
      "source": [
        "Remember we can only plot decision surface for data upto 2 features on a 2D plot and 3 features on a 3D plot. Since we are plotting in two dimensions, we must use **X_compress** and **svm_classifier_cm** as the input data and classifier respectively.\n"
      ]
    },
    {
      "cell_type": "code",
      "metadata": {
        "id": "DvRqY3pS_I7a",
        "colab_type": "code",
        "colab": {
          "base_uri": "https://localhost:8080/",
          "height": 265
        },
        "outputId": "b4d79251-6aab-4c49-87ca-5758dcf2dc9a"
      },
      "source": [
        "# Plotting decision boundary\n",
        "plot_decision_boundary(x_test_cm, y_test_cm, classifier=svm_classifier_cm)"
      ],
      "execution_count": null,
      "outputs": [
        {
          "output_type": "display_data",
          "data": {
            "image/png": "[encoded data removed]",
            "text/plain": [
              "<Figure size 432x288 with 1 Axes>"
            ]
          },
          "metadata": {
            "tags": [],
            "needs_background": "light"
          }
        }
      ]
    },
    {
      "cell_type": "code",
      "metadata": {
        "id": "I1QjhNeK9Wzr",
        "colab_type": "code",
        "colab": {
          "base_uri": "https://localhost:8080/",
          "height": 51
        },
        "outputId": "56f78d21-be55-44f6-e7ee-2c5353b45847"
      },
      "source": [
        "# Let's have a look at model's performance\n",
        "print(\"With Compression-\", end=\" \"); print_accuracy(svm_classifier_cm, x_test_cm, y_test_cm)\n",
        "print(\"Without Compression-\", end=\" \"); print_accuracy(svm_classifier, x_test, y_test)"
      ],
      "execution_count": null,
      "outputs": [
        {
          "output_type": "stream",
          "text": [
            "With Compression- Validation Accuracy: 92.0%\n",
            "Without Compression- Validation Accuracy: 97.0%\n"
          ],
          "name": "stdout"
        }
      ]
    },
    {
      "cell_type": "markdown",
      "metadata": {
        "id": "YAbaH1WsDOCG",
        "colab_type": "text"
      },
      "source": [
        "Having used linear kernel let's now use radial basis function in our SVC classifier.\n",
        "\n",
        "## 5. Support Vector Machines (with Gaussian kernel)"
      ]
    },
    {
      "cell_type": "code",
      "metadata": {
        "id": "NuhNfWq6E7qB",
        "colab_type": "code",
        "colab": {
          "base_uri": "https://localhost:8080/",
          "height": 85
        },
        "outputId": "6401c4f6-a3c5-470f-cd68-09a961bafa19"
      },
      "source": [
        "# Instantiating the model\n",
        "svm_classifier_rbf = SVC(kernel=\"rbf\", C=0.9)\n",
        "svm_classifier_cm_rbf = SVC(kernel=\"rbf\", C=0.9)\n",
        "\n",
        "# Fitting the model (Using the earlier created dataset)\n",
        "svm_classifier_rbf.fit(x_train, y_train)\n",
        "svm_classifier_cm_rbf.fit(x_train_cm, y_train_cm)"
      ],
      "execution_count": null,
      "outputs": [
        {
          "output_type": "execute_result",
          "data": {
            "text/plain": [
              "SVC(C=0.9, break_ties=False, cache_size=200, class_weight=None, coef0=0.0,\n",
              "    decision_function_shape='ovr', degree=3, gamma='scale', kernel='rbf',\n",
              "    max_iter=-1, probability=False, random_state=None, shrinking=True,\n",
              "    tol=0.001, verbose=False)"
            ]
          },
          "metadata": {
            "tags": []
          },
          "execution_count": 182
        }
      ]
    },
    {
      "cell_type": "code",
      "metadata": {
        "id": "YJhG4eOrFafD",
        "colab_type": "code",
        "colab": {
          "base_uri": "https://localhost:8080/",
          "height": 265
        },
        "outputId": "1385761b-9b35-48f9-e727-edfd1c6cdd58"
      },
      "source": [
        "# Plotting decision boundary\n",
        "plot_decision_boundary(x_test_cm, y_test_cm, classifier=svm_classifier_cm_rbf)"
      ],
      "execution_count": null,
      "outputs": [
        {
          "output_type": "display_data",
          "data": {
            "image/png": "[encoded data removed]",
            "text/plain": [
              "<Figure size 432x288 with 1 Axes>"
            ]
          },
          "metadata": {
            "tags": [],
            "needs_background": "light"
          }
        }
      ]
    },
    {
      "cell_type": "code",
      "metadata": {
        "id": "DX0bhS9B9wpP",
        "colab_type": "code",
        "colab": {
          "base_uri": "https://localhost:8080/",
          "height": 51
        },
        "outputId": "4779eeb7-79c7-446b-a55f-6a5877af6316"
      },
      "source": [
        "# Let's have a look at model's performance\n",
        "print(\"With Compression-\", end=\" \"); print_accuracy(svm_classifier_cm_rbf, x_test_cm, y_test_cm)\n",
        "print(\"Without Compression-\", end=\" \"); print_accuracy(svm_classifier_rbf, x_test, y_test)"
      ],
      "execution_count": null,
      "outputs": [
        {
          "output_type": "stream",
          "text": [
            "With Compression- Validation Accuracy: 93.0%\n",
            "Without Compression- Validation Accuracy: 97.0%\n"
          ],
          "name": "stdout"
        }
      ]
    },
    {
      "cell_type": "markdown",
      "metadata": {
        "id": "YtkOF4YbHXgy",
        "colab_type": "text"
      },
      "source": [
        "Let's now look at a model build upon Unsupervised learning algorithm K-means Clustering.\n",
        "\n",
        "## 6. K-Means Clustering"
      ]
    },
    {
      "cell_type": "code",
      "metadata": {
        "id": "-DL1IO65Hw2H",
        "colab_type": "code",
        "colab": {
          "base_uri": "https://localhost:8080/",
          "height": 287
        },
        "outputId": "8e632f56-5c6f-4da1-9918-652ae9b304e3"
      },
      "source": [
        "# Loading the blobs dataset\n",
        "X_blobs, y_blobs = make_blobs(n_samples=1500, centers=3, random_state=18)\n",
        "\n",
        "# Plotting the data\n",
        "scatter_datapoints(X_blobs, y_blobs)"
      ],
      "execution_count": null,
      "outputs": [
        {
          "output_type": "display_data",
          "data": {
            "image/png": "[encoded data removed]",
            "text/plain": [
              "<Figure size 432x288 with 1 Axes>"
            ]
          },
          "metadata": {
            "tags": [],
            "needs_background": "light"
          }
        }
      ]
    },
    {
      "cell_type": "markdown",
      "metadata": {
        "id": "Y1v6T1EK-KwB",
        "colab_type": "text"
      },
      "source": [
        "- We need to make a model that learns the cluster information for the given data.\n"
      ]
    },
    {
      "cell_type": "code",
      "metadata": {
        "id": "_ts_T-uyISvG",
        "colab_type": "code",
        "colab": {
          "base_uri": "https://localhost:8080/",
          "height": 68
        },
        "outputId": "2b727f11-a74f-4fc1-b305-7549851b1bc8"
      },
      "source": [
        "# Instantiating the model\n",
        "km = KMeans(n_clusters=3, max_iter=900, random_state=18)\n",
        "\n",
        "# EDA - Data Normalization\n",
        "X_std = normalize(X_blobs)\n",
        "\n",
        "# Splitting the dataset\n",
        "x_train, x_test, y_train, y_test = train_test_split(X_std, y_blobs, test_size=0.2,\n",
        "                                                    stratify=y_blobs, random_state=18)\n",
        "\n",
        "# Fitting the model\n",
        "km.fit(x_train, y_train)"
      ],
      "execution_count": null,
      "outputs": [
        {
          "output_type": "execute_result",
          "data": {
            "text/plain": [
              "KMeans(algorithm='auto', copy_x=True, init='k-means++', max_iter=900,\n",
              "       n_clusters=3, n_init=10, n_jobs=None, precompute_distances='auto',\n",
              "       random_state=18, tol=0.0001, verbose=0)"
            ]
          },
          "metadata": {
            "tags": []
          },
          "execution_count": 186
        }
      ]
    },
    {
      "cell_type": "code",
      "metadata": {
        "id": "18Hs5dJkJv82",
        "colab_type": "code",
        "colab": {
          "base_uri": "https://localhost:8080/",
          "height": 265
        },
        "outputId": "f2335e54-e973-4152-d8b8-4f0d87436cd2"
      },
      "source": [
        "# Plotting decision boundary\n",
        "plot_decision_boundary(x_test, y_test, classifier=km)"
      ],
      "execution_count": null,
      "outputs": [
        {
          "output_type": "display_data",
          "data": {
            "image/png": "[encoded data removed]",
            "text/plain": [
              "<Figure size 432x288 with 1 Axes>"
            ]
          },
          "metadata": {
            "tags": [],
            "needs_background": "light"
          }
        }
      ]
    },
    {
      "cell_type": "markdown",
      "metadata": {
        "id": "aOEAwRUX-i_C",
        "colab_type": "text"
      },
      "source": [
        "- Hypothesis: We cannot use classifier.score function for this model as this function return the *r2_score* of the model which takes into consideration actual labels for the features and not the cluster information."
      ]
    },
    {
      "cell_type": "code",
      "metadata": {
        "id": "13FNedvlMq_7",
        "colab_type": "code",
        "colab": {
          "base_uri": "https://localhost:8080/",
          "height": 34
        },
        "outputId": "37dc9c5b-1a97-4c16-b72b-2e0cc6a1304c"
      },
      "source": [
        "# Let's have a look at the model's accuracy.\n",
        "print_regression_accuracy(km, x_test, y_test)"
      ],
      "execution_count": null,
      "outputs": [
        {
          "output_type": "stream",
          "text": [
            "Validation Accuracy: 99.0%\n"
          ],
          "name": "stdout"
        }
      ]
    },
    {
      "cell_type": "markdown",
      "metadata": {
        "id": "lbekbKJQJzVW",
        "colab_type": "text"
      },
      "source": [
        "- The one disadvantage of this method is that we need to know the number of clusters formed prior to fitting of the model. We got labels in this case but usually unsupervised learning tasks does not deal with labels. We could also fit the model without specifying the labels as given below."
      ]
    },
    {
      "cell_type": "code",
      "metadata": {
        "id": "KNvstmiqNpZf",
        "colab_type": "code",
        "colab": {
          "base_uri": "https://localhost:8080/",
          "height": 34
        },
        "outputId": "308bb72f-7240-4647-e602-b6c64b3bdc1c"
      },
      "source": [
        "# Instantiating the model\n",
        "km_unsup = KMeans(n_clusters=3, random_state=18, max_iter=900)\n",
        "\n",
        "# Fitting the model\n",
        "km_unsup.fit(x_train)\n",
        "\n",
        "# Evaluating the model\n",
        "print_regression_accuracy(km_unsup, x_test, y_test)"
      ],
      "execution_count": null,
      "outputs": [
        {
          "output_type": "stream",
          "text": [
            "Validation Accuracy: 99.0%\n"
          ],
          "name": "stdout"
        }
      ]
    },
    {
      "cell_type": "markdown",
      "metadata": {
        "id": "YAMPoSPhNsEe",
        "colab_type": "text"
      },
      "source": [
        "- The same performance as above. Hence we can say that n_clusters is a hyperparameter to tune."
      ]
    },
    {
      "cell_type": "markdown",
      "metadata": {
        "id": "rFldOkfWOjYF",
        "colab_type": "text"
      },
      "source": [
        "## 7. Neural Networks - Regression"
      ]
    },
    {
      "cell_type": "markdown",
      "metadata": {
        "id": "oOP8nBJvOoLp",
        "colab_type": "text"
      },
      "source": [
        "- Now we are at the last and at base of the mordern machine learning algorithms - The Neural Networks."
      ]
    },
    {
      "cell_type": "code",
      "metadata": {
        "id": "ut_WrGb4O64R",
        "colab_type": "code",
        "colab": {}
      },
      "source": [
        "# Let's load the boston dataset\n",
        "X_boston, y_boston = load_boston(return_X_y=True)\n",
        "\n",
        "# EDA - Data Normalization\n",
        "X_std = normalize(X_boston)\n",
        "\n",
        "# Splitting the dataset\n",
        "x_train, x_test, y_train, y_test = train_test_split(X_std, y_boston, test_size=0.2,\n",
        "                                                    random_state=48)"
      ],
      "execution_count": null,
      "outputs": []
    },
    {
      "cell_type": "markdown",
      "metadata": {
        "id": "zOIEQTb1QTK5",
        "colab_type": "text"
      },
      "source": [
        "- Now the implementation of neural networks are commonly done using some backend frameworks such as Caffee, Theano, Tensorflow or Pytorch.\n",
        "\n",
        "- We would be going to implement our model on Tensorflow framework.\n",
        "\n",
        "- Although we can pass samples directly into the model, there is a fine way of building dataset using the **tf.data** pipeline. The way tensorflow loves it."
      ]
    },
    {
      "cell_type": "code",
      "metadata": {
        "id": "mOvSvERpSfMA",
        "colab_type": "code",
        "colab": {}
      },
      "source": [
        "# Configrations\n",
        "\n",
        "EPOCHS = 100\n",
        "AUTO = tf.data.experimental.AUTOTUNE\n",
        "BATCH_SIZE=32\n",
        "IMG_SIZE=224\n",
        "BUFFER= 900\n",
        "SPLIT_WEIGHTS=(8, 1, 1)\n",
        "SPLIT = tfds.Split.TRAIN.subsplit(weighted=SPLIT_WEIGHTS)"
      ],
      "execution_count": null,
      "outputs": []
    },
    {
      "cell_type": "code",
      "metadata": {
        "id": "jS8Pn1K8QpP2",
        "colab_type": "code",
        "colab": {}
      },
      "source": [
        "# Building the model\n",
        "model = tf.keras.models.Sequential([\n",
        "                                    tf.keras.layers.Dense(32, input_dim=13, activation=\"relu\"),\n",
        "                                    tf.keras.layers.Dense(1, activation=\"linear\")\n",
        "                                    ])\n",
        "# Compiling the model\n",
        "model.compile(loss=\"mean_squared_logarithmic_error\", optimizer=\"sgd\")"
      ],
      "execution_count": null,
      "outputs": []
    },
    {
      "cell_type": "markdown",
      "metadata": {
        "id": "wx6mVTs2_njv",
        "colab_type": "text"
      },
      "source": [
        "- Note that the above model does not have a single hypothesis function, its a combination of multiple and hence the model will learn non-linear mappings."
      ]
    },
    {
      "cell_type": "code",
      "metadata": {
        "id": "fED2mvkwTulS",
        "colab_type": "code",
        "colab": {
          "base_uri": "https://localhost:8080/",
          "height": 221
        },
        "outputId": "cc51a6ac-abb8-4dfb-f706-e6612042cf76"
      },
      "source": [
        "# Printing model info\n",
        "model.summary()"
      ],
      "execution_count": null,
      "outputs": [
        {
          "output_type": "stream",
          "text": [
            "Model: \"sequential_3\"\n",
            "_________________________________________________________________\n",
            "Layer (type)                 Output Shape              Param #   \n",
            "=================================================================\n",
            "dense_6 (Dense)              (None, 32)                448       \n",
            "_________________________________________________________________\n",
            "dense_7 (Dense)              (None, 1)                 33        \n",
            "=================================================================\n",
            "Total params: 481\n",
            "Trainable params: 481\n",
            "Non-trainable params: 0\n",
            "_________________________________________________________________\n"
          ],
          "name": "stdout"
        }
      ]
    },
    {
      "cell_type": "code",
      "metadata": {
        "id": "UQSnYMflVC6R",
        "colab_type": "code",
        "colab": {
          "base_uri": "https://localhost:8080/",
          "height": 1000
        },
        "outputId": "955681a8-99d7-4357-b4d1-7dc37506d4ee"
      },
      "source": [
        "model.fit(x_train, y_train, epochs=EPOCHS, validation_data=(x_test, y_test), verbose=1)"
      ],
      "execution_count": null,
      "outputs": [
        {
          "output_type": "stream",
          "text": [
            "Epoch 1/100\n",
            "13/13 [==============================] - 0s 8ms/step - loss: 5.8265 - val_loss: 4.3061\n",
            "Epoch 2/100\n",
            "13/13 [==============================] - 0s 2ms/step - loss: 3.7154 - val_loss: 3.2163\n",
            "Epoch 3/100\n",
            "13/13 [==============================] - 0s 2ms/step - loss: 2.8718 - val_loss: 2.6023\n",
            "Epoch 4/100\n",
            "13/13 [==============================] - 0s 2ms/step - loss: 2.3559 - val_loss: 2.1885\n",
            "Epoch 5/100\n",
            "13/13 [==============================] - 0s 2ms/step - loss: 1.9962 - val_loss: 1.8843\n",
            "Epoch 6/100\n",
            "13/13 [==============================] - 0s 2ms/step - loss: 1.7272 - val_loss: 1.6494\n",
            "Epoch 7/100\n",
            "13/13 [==============================] - 0s 2ms/step - loss: 1.5174 - val_loss: 1.4627\n",
            "Epoch 8/100\n",
            "13/13 [==============================] - 0s 2ms/step - loss: 1.3488 - val_loss: 1.3093\n",
            "Epoch 9/100\n",
            "13/13 [==============================] - 0s 2ms/step - loss: 1.2100 - val_loss: 1.1816\n",
            "Epoch 10/100\n",
            "13/13 [==============================] - 0s 2ms/step - loss: 1.0943 - val_loss: 1.0738\n",
            "Epoch 11/100\n",
            "13/13 [==============================] - 0s 2ms/step - loss: 0.9960 - val_loss: 0.9809\n",
            "Epoch 12/100\n",
            "13/13 [==============================] - 0s 2ms/step - loss: 0.9114 - val_loss: 0.9007\n",
            "Epoch 13/100\n",
            "13/13 [==============================] - 0s 3ms/step - loss: 0.8381 - val_loss: 0.8307\n",
            "Epoch 14/100\n",
            "13/13 [==============================] - 0s 2ms/step - loss: 0.7741 - val_loss: 0.7687\n",
            "Epoch 15/100\n",
            "13/13 [==============================] - 0s 2ms/step - loss: 0.7176 - val_loss: 0.7142\n",
            "Epoch 16/100\n",
            "13/13 [==============================] - 0s 2ms/step - loss: 0.6678 - val_loss: 0.6659\n",
            "Epoch 17/100\n",
            "13/13 [==============================] - 0s 2ms/step - loss: 0.6237 - val_loss: 0.6225\n",
            "Epoch 18/100\n",
            "13/13 [==============================] - 0s 2ms/step - loss: 0.5840 - val_loss: 0.5832\n",
            "Epoch 19/100\n",
            "13/13 [==============================] - 0s 2ms/step - loss: 0.5481 - val_loss: 0.5479\n",
            "Epoch 20/100\n",
            "13/13 [==============================] - 0s 2ms/step - loss: 0.5158 - val_loss: 0.5161\n",
            "Epoch 21/100\n",
            "13/13 [==============================] - 0s 2ms/step - loss: 0.4867 - val_loss: 0.4870\n",
            "Epoch 22/100\n",
            "13/13 [==============================] - 0s 3ms/step - loss: 0.4602 - val_loss: 0.4606\n",
            "Epoch 23/100\n",
            "13/13 [==============================] - 0s 2ms/step - loss: 0.4360 - val_loss: 0.4366\n",
            "Epoch 24/100\n",
            "13/13 [==============================] - 0s 2ms/step - loss: 0.4141 - val_loss: 0.4145\n",
            "Epoch 25/100\n",
            "13/13 [==============================] - 0s 2ms/step - loss: 0.3939 - val_loss: 0.3943\n",
            "Epoch 26/100\n",
            "13/13 [==============================] - 0s 2ms/step - loss: 0.3755 - val_loss: 0.3756\n",
            "Epoch 27/100\n",
            "13/13 [==============================] - 0s 2ms/step - loss: 0.3585 - val_loss: 0.3584\n",
            "Epoch 28/100\n",
            "13/13 [==============================] - 0s 2ms/step - loss: 0.3428 - val_loss: 0.3425\n",
            "Epoch 29/100\n",
            "13/13 [==============================] - 0s 2ms/step - loss: 0.3283 - val_loss: 0.3278\n",
            "Epoch 30/100\n",
            "13/13 [==============================] - 0s 2ms/step - loss: 0.3150 - val_loss: 0.3141\n",
            "Epoch 31/100\n",
            "13/13 [==============================] - 0s 2ms/step - loss: 0.3025 - val_loss: 0.3014\n",
            "Epoch 32/100\n",
            "13/13 [==============================] - 0s 2ms/step - loss: 0.2909 - val_loss: 0.2895\n",
            "Epoch 33/100\n",
            "13/13 [==============================] - 0s 3ms/step - loss: 0.2801 - val_loss: 0.2784\n",
            "Epoch 34/100\n",
            "13/13 [==============================] - 0s 2ms/step - loss: 0.2700 - val_loss: 0.2680\n",
            "Epoch 35/100\n",
            "13/13 [==============================] - 0s 2ms/step - loss: 0.2606 - val_loss: 0.2583\n",
            "Epoch 36/100\n",
            "13/13 [==============================] - 0s 2ms/step - loss: 0.2518 - val_loss: 0.2493\n",
            "Epoch 37/100\n",
            "13/13 [==============================] - 0s 2ms/step - loss: 0.2435 - val_loss: 0.2407\n",
            "Epoch 38/100\n",
            "13/13 [==============================] - 0s 2ms/step - loss: 0.2357 - val_loss: 0.2327\n",
            "Epoch 39/100\n",
            "13/13 [==============================] - 0s 2ms/step - loss: 0.2285 - val_loss: 0.2253\n",
            "Epoch 40/100\n",
            "13/13 [==============================] - 0s 3ms/step - loss: 0.2217 - val_loss: 0.2182\n",
            "Epoch 41/100\n",
            "13/13 [==============================] - 0s 2ms/step - loss: 0.2153 - val_loss: 0.2116\n",
            "Epoch 42/100\n",
            "13/13 [==============================] - 0s 2ms/step - loss: 0.2093 - val_loss: 0.2054\n",
            "Epoch 43/100\n",
            "13/13 [==============================] - 0s 3ms/step - loss: 0.2037 - val_loss: 0.1995\n",
            "Epoch 44/100\n",
            "13/13 [==============================] - 0s 2ms/step - loss: 0.1983 - val_loss: 0.1939\n",
            "Epoch 45/100\n",
            "13/13 [==============================] - 0s 2ms/step - loss: 0.1932 - val_loss: 0.1887\n",
            "Epoch 46/100\n",
            "13/13 [==============================] - 0s 2ms/step - loss: 0.1885 - val_loss: 0.1837\n",
            "Epoch 47/100\n",
            "13/13 [==============================] - 0s 2ms/step - loss: 0.1840 - val_loss: 0.1790\n",
            "Epoch 48/100\n",
            "13/13 [==============================] - 0s 2ms/step - loss: 0.1796 - val_loss: 0.1746\n",
            "Epoch 49/100\n",
            "13/13 [==============================] - 0s 2ms/step - loss: 0.1756 - val_loss: 0.1703\n",
            "Epoch 50/100\n",
            "13/13 [==============================] - 0s 2ms/step - loss: 0.1718 - val_loss: 0.1664\n",
            "Epoch 51/100\n",
            "13/13 [==============================] - 0s 3ms/step - loss: 0.1681 - val_loss: 0.1626\n",
            "Epoch 52/100\n",
            "13/13 [==============================] - 0s 2ms/step - loss: 0.1647 - val_loss: 0.1590\n",
            "Epoch 53/100\n",
            "13/13 [==============================] - 0s 2ms/step - loss: 0.1614 - val_loss: 0.1556\n",
            "Epoch 54/100\n",
            "13/13 [==============================] - 0s 2ms/step - loss: 0.1583 - val_loss: 0.1524\n",
            "Epoch 55/100\n",
            "13/13 [==============================] - 0s 2ms/step - loss: 0.1553 - val_loss: 0.1493\n",
            "Epoch 56/100\n",
            "13/13 [==============================] - 0s 2ms/step - loss: 0.1524 - val_loss: 0.1464\n",
            "Epoch 57/100\n",
            "13/13 [==============================] - 0s 2ms/step - loss: 0.1497 - val_loss: 0.1436\n",
            "Epoch 58/100\n",
            "13/13 [==============================] - 0s 2ms/step - loss: 0.1471 - val_loss: 0.1409\n",
            "Epoch 59/100\n",
            "13/13 [==============================] - 0s 2ms/step - loss: 0.1446 - val_loss: 0.1383\n",
            "Epoch 60/100\n",
            "13/13 [==============================] - 0s 2ms/step - loss: 0.1423 - val_loss: 0.1358\n",
            "Epoch 61/100\n",
            "13/13 [==============================] - 0s 2ms/step - loss: 0.1399 - val_loss: 0.1334\n",
            "Epoch 62/100\n",
            "13/13 [==============================] - 0s 2ms/step - loss: 0.1378 - val_loss: 0.1312\n",
            "Epoch 63/100\n",
            "13/13 [==============================] - 0s 2ms/step - loss: 0.1357 - val_loss: 0.1291\n",
            "Epoch 64/100\n",
            "13/13 [==============================] - 0s 2ms/step - loss: 0.1337 - val_loss: 0.1270\n",
            "Epoch 65/100\n",
            "13/13 [==============================] - 0s 2ms/step - loss: 0.1317 - val_loss: 0.1251\n",
            "Epoch 66/100\n",
            "13/13 [==============================] - 0s 2ms/step - loss: 0.1299 - val_loss: 0.1231\n",
            "Epoch 67/100\n",
            "13/13 [==============================] - 0s 2ms/step - loss: 0.1281 - val_loss: 0.1213\n",
            "Epoch 68/100\n",
            "13/13 [==============================] - 0s 2ms/step - loss: 0.1264 - val_loss: 0.1196\n",
            "Epoch 69/100\n",
            "13/13 [==============================] - 0s 2ms/step - loss: 0.1247 - val_loss: 0.1179\n",
            "Epoch 70/100\n",
            "13/13 [==============================] - 0s 2ms/step - loss: 0.1232 - val_loss: 0.1163\n",
            "Epoch 71/100\n",
            "13/13 [==============================] - 0s 2ms/step - loss: 0.1216 - val_loss: 0.1147\n",
            "Epoch 72/100\n",
            "13/13 [==============================] - 0s 2ms/step - loss: 0.1202 - val_loss: 0.1132\n",
            "Epoch 73/100\n",
            "13/13 [==============================] - 0s 2ms/step - loss: 0.1188 - val_loss: 0.1117\n",
            "Epoch 74/100\n",
            "13/13 [==============================] - 0s 2ms/step - loss: 0.1174 - val_loss: 0.1104\n",
            "Epoch 75/100\n",
            "13/13 [==============================] - 0s 2ms/step - loss: 0.1160 - val_loss: 0.1090\n",
            "Epoch 76/100\n",
            "13/13 [==============================] - 0s 2ms/step - loss: 0.1147 - val_loss: 0.1077\n",
            "Epoch 77/100\n",
            "13/13 [==============================] - 0s 2ms/step - loss: 0.1135 - val_loss: 0.1065\n",
            "Epoch 78/100\n",
            "13/13 [==============================] - 0s 3ms/step - loss: 0.1123 - val_loss: 0.1052\n",
            "Epoch 79/100\n",
            "13/13 [==============================] - 0s 3ms/step - loss: 0.1111 - val_loss: 0.1041\n",
            "Epoch 80/100\n",
            "13/13 [==============================] - 0s 3ms/step - loss: 0.1099 - val_loss: 0.1029\n",
            "Epoch 81/100\n",
            "13/13 [==============================] - 0s 2ms/step - loss: 0.1088 - val_loss: 0.1019\n",
            "Epoch 82/100\n",
            "13/13 [==============================] - 0s 2ms/step - loss: 0.1078 - val_loss: 0.1008\n",
            "Epoch 83/100\n",
            "13/13 [==============================] - 0s 2ms/step - loss: 0.1067 - val_loss: 0.0998\n",
            "Epoch 84/100\n",
            "13/13 [==============================] - 0s 2ms/step - loss: 0.1057 - val_loss: 0.0988\n",
            "Epoch 85/100\n",
            "13/13 [==============================] - 0s 2ms/step - loss: 0.1047 - val_loss: 0.0979\n",
            "Epoch 86/100\n",
            "13/13 [==============================] - 0s 2ms/step - loss: 0.1037 - val_loss: 0.0970\n",
            "Epoch 87/100\n",
            "13/13 [==============================] - 0s 2ms/step - loss: 0.1028 - val_loss: 0.0961\n",
            "Epoch 88/100\n",
            "13/13 [==============================] - 0s 2ms/step - loss: 0.1019 - val_loss: 0.0952\n",
            "Epoch 89/100\n",
            "13/13 [==============================] - 0s 2ms/step - loss: 0.1010 - val_loss: 0.0943\n",
            "Epoch 90/100\n",
            "13/13 [==============================] - 0s 2ms/step - loss: 0.1001 - val_loss: 0.0935\n",
            "Epoch 91/100\n",
            "13/13 [==============================] - 0s 2ms/step - loss: 0.0993 - val_loss: 0.0928\n",
            "Epoch 92/100\n",
            "13/13 [==============================] - 0s 2ms/step - loss: 0.0984 - val_loss: 0.0920\n",
            "Epoch 93/100\n",
            "13/13 [==============================] - 0s 2ms/step - loss: 0.0977 - val_loss: 0.0913\n",
            "Epoch 94/100\n",
            "13/13 [==============================] - 0s 2ms/step - loss: 0.0969 - val_loss: 0.0906\n",
            "Epoch 95/100\n",
            "13/13 [==============================] - 0s 2ms/step - loss: 0.0961 - val_loss: 0.0899\n",
            "Epoch 96/100\n",
            "13/13 [==============================] - 0s 2ms/step - loss: 0.0954 - val_loss: 0.0892\n",
            "Epoch 97/100\n",
            "13/13 [==============================] - 0s 2ms/step - loss: 0.0946 - val_loss: 0.0885\n",
            "Epoch 98/100\n",
            "13/13 [==============================] - 0s 2ms/step - loss: 0.0939 - val_loss: 0.0879\n",
            "Epoch 99/100\n",
            "13/13 [==============================] - 0s 2ms/step - loss: 0.0932 - val_loss: 0.0873\n",
            "Epoch 100/100\n",
            "13/13 [==============================] - 0s 2ms/step - loss: 0.0925 - val_loss: 0.0867\n"
          ],
          "name": "stdout"
        },
        {
          "output_type": "execute_result",
          "data": {
            "text/plain": [
              "<tensorflow.python.keras.callbacks.History at 0x7fe3089d0e10>"
            ]
          },
          "metadata": {
            "tags": []
          },
          "execution_count": 194
        }
      ]
    },
    {
      "cell_type": "code",
      "metadata": {
        "id": "av_NoqsqVdCi",
        "colab_type": "code",
        "colab": {
          "base_uri": "https://localhost:8080/",
          "height": 265
        },
        "outputId": "9078e47a-c96b-4103-cfae-3b4877b42717"
      },
      "source": [
        "# Plotting the model's performance\n",
        "history_dict = model.history.history\n",
        "\n",
        "plt.plot(history_dict[\"loss\"], label=\"Training Loss\", c=\"red\")\n",
        "plt.plot(history_dict[\"val_loss\"], label=\"Validation Loss\", c=\"green\")\n",
        "plt.legend()\n",
        "plt.show()"
      ],
      "execution_count": null,
      "outputs": [
        {
          "output_type": "display_data",
          "data": {
            "image/png": "[encoded data removed]",
            "text/plain": [
              "<Figure size 432x288 with 1 Axes>"
            ]
          },
          "metadata": {
            "tags": [],
            "needs_background": "light"
          }
        }
      ]
    },
    {
      "cell_type": "markdown",
      "metadata": {
        "id": "0_rOAZTIeBsO",
        "colab_type": "text"
      },
      "source": [
        "As we can see model is very much successful in learning from the data. Let's now see its score."
      ]
    },
    {
      "cell_type": "code",
      "metadata": {
        "id": "G_3I33WYeHtR",
        "colab_type": "code",
        "colab": {
          "base_uri": "https://localhost:8080/",
          "height": 51
        },
        "outputId": "b5f3a9c0-7a6e-4c39-a6d8-3f5d79fea16d"
      },
      "source": [
        "y_pred = model.predict(x_test)\n",
        "print(f\"Accuracy of model: {np.mean(y_pred==y_test)}%\")\n",
        "\n",
        "# Oops! 0 accuracy?\n",
        "\n",
        "# As we know that in regression task, we cannot get exact value\n",
        "# as an output and hence we need to define an acceptable range \n",
        "# of difference b/w actual value and predicted value when getting\n",
        "# the accuracy of the model.\n",
        "\n",
        "#Let's define a threshold over which prediction would be considered correct.\n",
        "threshold = 0.3\n",
        "\n",
        "print(f\"Accuracy after introducing threshold: {round(np.mean((y_pred-y_test)<threshold)*100, 2)}%\")"
      ],
      "execution_count": null,
      "outputs": [
        {
          "output_type": "stream",
          "text": [
            "Accuracy of model: 0.0%\n",
            "Accuracy after introducing threshold: 60.39%\n"
          ],
          "name": "stdout"
        }
      ]
    },
    {
      "cell_type": "markdown",
      "metadata": {
        "id": "WlACOvI4gNZf",
        "colab_type": "text"
      },
      "source": [
        "The more large the value of this \"threshold\" variable would be, the more good accuracy we would get.\n",
        "\n",
        "The above model could me greately improved by introducing more layers, more data, good weight initialization techniques, hyperparameter optimization techniques etc."
      ]
    },
    {
      "cell_type": "markdown",
      "metadata": {
        "id": "IJrKTvFnfGI2",
        "colab_type": "text"
      },
      "source": [
        "## 7. Neural Networks - Classification"
      ]
    },
    {
      "cell_type": "markdown",
      "metadata": {
        "id": "gBkcmg9Bg08L",
        "colab_type": "text"
      },
      "source": [
        "Let us now finally look at the classification side of the neural networks."
      ]
    },
    {
      "cell_type": "code",
      "metadata": {
        "id": "G88uIJM1g5-l",
        "colab_type": "code",
        "colab": {}
      },
      "source": [
        "# let's load the abstract reasoning task from tensorflow datasets.\n",
        "(train, val, test), data_info = tfds.load(name=\"tf_flowers\", split=['train[:80%]', 'train[80%:90%]', 'train[90%:]'],\n",
        "                                          with_info=True, as_supervised=True)"
      ],
      "execution_count": null,
      "outputs": []
    },
    {
      "cell_type": "code",
      "metadata": {
        "id": "SLgFVL0vna29",
        "colab_type": "code",
        "colab": {
          "base_uri": "https://localhost:8080/",
          "height": 391
        },
        "outputId": "fb33899e-6298-4a0a-ad76-120f6a7de345"
      },
      "source": [
        "data_info"
      ],
      "execution_count": null,
      "outputs": [
        {
          "output_type": "execute_result",
          "data": {
            "text/plain": [
              "tfds.core.DatasetInfo(\n",
              "    name='tf_flowers',\n",
              "    version=3.0.0,\n",
              "    description='A large set of images of flowers',\n",
              "    homepage='https://www.tensorflow.org/tutorials/load_data/images',\n",
              "    features=FeaturesDict({\n",
              "        'image': Image(shape=(None, None, 3), dtype=tf.uint8),\n",
              "        'label': ClassLabel(shape=(), dtype=tf.int64, num_classes=5),\n",
              "    }),\n",
              "    total_num_examples=3670,\n",
              "    splits={\n",
              "        'train': 3670,\n",
              "    },\n",
              "    supervised_keys=('image', 'label'),\n",
              "    citation=\"\"\"@ONLINE {tfflowers,\n",
              "    author = \"The TensorFlow Team\",\n",
              "    title = \"Flowers\",\n",
              "    month = \"jan\",\n",
              "    year = \"2019\",\n",
              "    url = \"http://download.tensorflow.org/example_images/flower_photos.tgz\" }\"\"\",\n",
              "    redistribution_info=,\n",
              ")"
            ]
          },
          "metadata": {
            "tags": []
          },
          "execution_count": 370
        }
      ]
    },
    {
      "cell_type": "code",
      "metadata": {
        "id": "cW1gC-D_h0ZA",
        "colab_type": "code",
        "colab": {}
      },
      "source": [
        "# Prepare dataset\n",
        "def prepare_image(image, IMG_SIZE=224, augment=False):\n",
        "  image = tf.image.resize(image, (IMG_SIZE, IMG_SIZE))\n",
        "  image = tf.cast(image, tf.float32)/ 255.0\n",
        "  if augment:\n",
        "    image = tf.image.random_brightness(image, 0.02)\n",
        "    image = tf.image.random_flip_up_down(image)\n",
        "  return image\n",
        "\n",
        "def prepare_dataset(data, batch_size=8, repeat=False, shuffle=False, augment=False):\n",
        "  dataset = data.map(lambda image, label: (prepare_image(image, IMG_SIZE=IMG_SIZE,\n",
        "                                                         augment=augment), label))\n",
        "  \n",
        "  if repeat:\n",
        "    dataset = dataset.repeat(6)\n",
        "  \n",
        "  if shuffle:\n",
        "    dataset = dataset.shuffle(batch_size*BUFFER)\n",
        "\n",
        "  dataset = dataset.batch(batch_size)\n",
        "  dataset.prefetch(AUTO)\n",
        "\n",
        "  return dataset"
      ],
      "execution_count": null,
      "outputs": []
    },
    {
      "cell_type": "code",
      "metadata": {
        "id": "1wvq41Tso3_L",
        "colab_type": "code",
        "colab": {}
      },
      "source": [
        "# As we have seen that this dataset has five distinct class labels and hence we will use softmax as an\n",
        "# activation function in the last layer "
      ],
      "execution_count": null,
      "outputs": []
    },
    {
      "cell_type": "code",
      "metadata": {
        "id": "K9_PmskFqQn5",
        "colab_type": "code",
        "colab": {}
      },
      "source": [
        "# Building the model\n",
        "# We would use Convolutional layers in this models as the input to the model\n",
        "# are images.\n",
        "model = tf.keras.models.Sequential([\n",
        "                                    tf.keras.layers.Conv2D(32, kernel_size=(3,3), activation=\"relu\",\n",
        "                                                           padding=\"same\",input_shape=(224, 224, 3)),\n",
        "                                    tf.keras.layers.MaxPooling2D(pool_size=(2,2)),\n",
        "                                    \n",
        "                                    tf.keras.layers.Conv2D(64, kernel_size=(3,3), activation=\"relu\",\n",
        "                                                           padding=\"same\"),\n",
        "                                    tf.keras.layers.MaxPooling2D(2,2),\n",
        "\n",
        "                                    tf.keras.layers.Flatten(),\n",
        "                                    tf.keras.layers.Dense(128, activation=\"relu\"),\n",
        "                                    tf.keras.layers.Dense(5, activation=\"softmax\")\n",
        "])\n",
        "\n",
        "# Loss: sparse_categorical_crossentropy because we have numerical labels and not one \n",
        "# hot encoded otherwise we could've used categorical crossentropy loss. \n",
        "model.compile(loss=\"sparse_categorical_crossentropy\", optimizer=\"adam\", metrics=[\"accuracy\"])"
      ],
      "execution_count": null,
      "outputs": []
    },
    {
      "cell_type": "code",
      "metadata": {
        "id": "hCzyJeS9raUx",
        "colab_type": "code",
        "colab": {
          "base_uri": "https://localhost:8080/",
          "height": 391
        },
        "outputId": "235d9f27-651c-48d1-86c7-9ac204cafc9d"
      },
      "source": [
        "model.summary()"
      ],
      "execution_count": null,
      "outputs": [
        {
          "output_type": "stream",
          "text": [
            "Model: \"sequential\"\n",
            "_________________________________________________________________\n",
            "Layer (type)                 Output Shape              Param #   \n",
            "=================================================================\n",
            "conv2d (Conv2D)              (None, 224, 224, 32)      896       \n",
            "_________________________________________________________________\n",
            "max_pooling2d (MaxPooling2D) (None, 112, 112, 32)      0         \n",
            "_________________________________________________________________\n",
            "conv2d_1 (Conv2D)            (None, 112, 112, 64)      18496     \n",
            "_________________________________________________________________\n",
            "max_pooling2d_1 (MaxPooling2 (None, 56, 56, 64)        0         \n",
            "_________________________________________________________________\n",
            "flatten (Flatten)            (None, 200704)            0         \n",
            "_________________________________________________________________\n",
            "dense (Dense)                (None, 128)               25690240  \n",
            "_________________________________________________________________\n",
            "dense_1 (Dense)              (None, 5)                 645       \n",
            "=================================================================\n",
            "Total params: 25,710,277\n",
            "Trainable params: 25,710,277\n",
            "Non-trainable params: 0\n",
            "_________________________________________________________________\n"
          ],
          "name": "stdout"
        }
      ]
    },
    {
      "cell_type": "code",
      "metadata": {
        "id": "Z4gwyKU4sHGP",
        "colab_type": "code",
        "colab": {
          "base_uri": "https://localhost:8080/",
          "height": 224
        },
        "outputId": "b6268150-d6f7-42a1-ab44-75314b73d584"
      },
      "source": [
        "model.fit(prepare_dataset(train, batch_size=BATCH_SIZE, repeat=True, shuffle=True, augment=True), \n",
        "          epochs=5,\n",
        "          steps_per_epoch=64,\n",
        "          validation_data=prepare_dataset(val))"
      ],
      "execution_count": null,
      "outputs": [
        {
          "output_type": "stream",
          "text": [
            "Epoch 1/5\n",
            "64/64 [==============================] - 145s 2s/step - loss: 2.0482 - accuracy: 0.3867 - val_loss: 1.2846 - val_accuracy: 0.4305\n",
            "Epoch 2/5\n",
            "64/64 [==============================] - 148s 2s/step - loss: 1.1080 - accuracy: 0.5527 - val_loss: 1.0398 - val_accuracy: 0.6049\n",
            "Epoch 3/5\n",
            "64/64 [==============================] - 144s 2s/step - loss: 0.8862 - accuracy: 0.6646 - val_loss: 1.0671 - val_accuracy: 0.6158\n",
            "Epoch 4/5\n",
            "64/64 [==============================] - 146s 2s/step - loss: 0.8190 - accuracy: 0.7046 - val_loss: 1.0585 - val_accuracy: 0.6349\n",
            "Epoch 5/5\n",
            "64/64 [==============================] - 145s 2s/step - loss: 0.7109 - accuracy: 0.7354 - val_loss: 1.1766 - val_accuracy: 0.6213\n"
          ],
          "name": "stdout"
        },
        {
          "output_type": "execute_result",
          "data": {
            "text/plain": [
              "<tensorflow.python.keras.callbacks.History at 0x7f0b55cb9ef0>"
            ]
          },
          "metadata": {
            "tags": []
          },
          "execution_count": 7
        }
      ]
    },
    {
      "cell_type": "code",
      "metadata": {
        "id": "wrZeJfKV1APJ",
        "colab_type": "code",
        "colab": {
          "base_uri": "https://localhost:8080/",
          "height": 268
        },
        "outputId": "c438f357-53b9-4f67-ae1e-2c6eb4dcc352"
      },
      "source": [
        "history_dict = model.history.history\n",
        "\n",
        "plt.plot(history_dict[\"loss\"], label=\"Training Loss\", c=\"red\")\n",
        "plt.plot(history_dict[\"val_loss\"], label=\"Validation Loss\", c=\"green\")\n",
        "plt.ylabel(\"Loss\", fontdict={\"fontsize\":18})\n",
        "plt.twinx()\n",
        "\n",
        "plt.plot(history_dict[\"accuracy\"], label=\"Training Accuracy\", c=\"brown\")\n",
        "plt.plot(history_dict[\"val_accuracy\"], label=\"Validation Accuracy\", c=\"magenta\")\n",
        "plt.ylabel(\"Accuracy\", fontdict={\"fontsize\":18})\n",
        "plt.legend()\n",
        "plt.show()"
      ],
      "execution_count": null,
      "outputs": [
        {
          "output_type": "display_data",
          "data": {
            "image/png": "[encoded data removed]",
            "text/plain": [
              "<Figure size 432x288 with 2 Axes>"
            ]
          },
          "metadata": {
            "tags": [],
            "needs_background": "light"
          }
        }
      ]
    },
    {
      "cell_type": "markdown",
      "metadata": {
        "id": "RK03A-S0sULz",
        "colab_type": "text"
      },
      "source": [
        "\n",
        "END OF THE NOTEBOOK"
      ]
    },
    {
      "cell_type": "code",
      "metadata": {
        "id": "1SXBxKS-DSpD",
        "colab_type": "code",
        "colab": {}
      },
      "source": [
        ""
      ],
      "execution_count": null,
      "outputs": []
    }
  ]
}